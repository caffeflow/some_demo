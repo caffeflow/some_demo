{
 "cells": [
  {
   "cell_type": "markdown",
   "metadata": {},
   "source": [
    "# 1导入"
   ]
  },
  {
   "cell_type": "code",
   "execution_count": 2,
   "metadata": {},
   "outputs": [],
   "source": [
    "import numpy as np"
   ]
  },
  {
   "cell_type": "markdown",
   "metadata": {},
   "source": [
    "numpy的数据类型"
   ]
  },
  {
   "cell_type": "code",
   "execution_count": 5,
   "metadata": {},
   "outputs": [
    {
     "data": {
      "text/plain": [
       "numpy.ndarray"
      ]
     },
     "execution_count": 5,
     "metadata": {},
     "output_type": "execute_result"
    }
   ],
   "source": [
    "array = np.array([1,2,3,4])\n",
    "\n",
    "type(array)"
   ]
  },
  {
   "cell_type": "markdown",
   "metadata": {},
   "source": [
    "# 2创建ndarray"
   ]
  },
  {
   "cell_type": "code",
   "execution_count": 6,
   "metadata": {},
   "outputs": [],
   "source": [
    "array1 = np.array([[1,2,3],\n",
    "                 [4,5,6],\n",
    "                 [7,8,9]])  # 使用一个二维的list生成一个二维的ndarray\n",
    "array2 = np.array([10, 11, 12, 13])   # 创建一个1维的ndarray"
   ]
  },
  {
   "cell_type": "markdown",
   "metadata": {},
   "source": [
    "## 2.1常用属性"
   ]
  },
  {
   "cell_type": "code",
   "execution_count": 9,
   "metadata": {},
   "outputs": [
    {
     "data": {
      "text/plain": [
       "((3, 3), (4,))"
      ]
     },
     "execution_count": 9,
     "metadata": {},
     "output_type": "execute_result"
    }
   ],
   "source": [
    "array1.shape,array2.shape"
   ]
  },
  {
   "cell_type": "code",
   "execution_count": 12,
   "metadata": {},
   "outputs": [
    {
     "data": {
      "text/plain": [
       "2"
      ]
     },
     "execution_count": 12,
     "metadata": {},
     "output_type": "execute_result"
    }
   ],
   "source": [
    "array1.ndim"
   ]
  },
  {
   "cell_type": "code",
   "execution_count": 14,
   "metadata": {},
   "outputs": [
    {
     "data": {
      "text/plain": [
       "dtype('int32')"
      ]
     },
     "execution_count": 14,
     "metadata": {},
     "output_type": "execute_result"
    }
   ],
   "source": [
    "# 元素的数据类型\n",
    "array1.dtype"
   ]
  },
  {
   "cell_type": "code",
   "execution_count": 15,
   "metadata": {},
   "outputs": [
    {
     "data": {
      "text/plain": [
       "4"
      ]
     },
     "execution_count": 15,
     "metadata": {},
     "output_type": "execute_result"
    }
   ],
   "source": [
    "array.size"
   ]
  },
  {
   "cell_type": "markdown",
   "metadata": {},
   "source": [
    "## 2.2创建特殊类型的的ndarray"
   ]
  },
  {
   "cell_type": "code",
   "execution_count": 16,
   "metadata": {},
   "outputs": [
    {
     "name": "stdout",
     "output_type": "stream",
     "text": [
      "[10.  10.5 11.  11.5 12.  12.5 13.  13.5 14.  14.5]\n"
     ]
    }
   ],
   "source": [
    "array = np.arange(10, 15, 0.5, dtype=np.float)\n",
    "print(array) # [10.  10.5 11.  11.5 12.  12.5 13.  13.5 14.  14.5]"
   ]
  },
  {
   "cell_type": "code",
   "execution_count": 17,
   "metadata": {},
   "outputs": [
    {
     "name": "stdout",
     "output_type": "stream",
     "text": [
      "[ 1.          1.77827941  3.16227766  5.62341325 10.        ]\n"
     ]
    }
   ],
   "source": [
    "array = np.logspace(0, 1, 5)  # [0, 1]，10^0, 10^0.25 .. 10^1\n",
    "print(array)  # [ 1.   1.77827941  3.16227766  5.62341325 10.  ]"
   ]
  },
  {
   "cell_type": "code",
   "execution_count": 18,
   "metadata": {},
   "outputs": [
    {
     "name": "stdout",
     "output_type": "stream",
     "text": [
      "[0.  0.5 1.  1.5]\n",
      "(4,)\n"
     ]
    }
   ],
   "source": [
    "array = np.r_[0:2:0.5]  # 快速创建行向量\n",
    "print(array)        # [0.  0.5 1.  1.5]\n",
    "print(array.shape)  # (4,)"
   ]
  },
  {
   "cell_type": "code",
   "execution_count": 22,
   "metadata": {},
   "outputs": [
    {
     "name": "stdout",
     "output_type": "stream",
     "text": [
      "[[0. ]\n",
      " [0.5]\n",
      " [1. ]\n",
      " [1.5]]\n",
      "(4, 1)\n"
     ]
    }
   ],
   "source": [
    "array = np.c_[0:2:0.5]  # 快速创建列向量\n",
    "print(array)\n",
    "print(array.shape)\n"
   ]
  },
  {
   "cell_type": "code",
   "execution_count": 23,
   "metadata": {},
   "outputs": [
    {
     "name": "stdout",
     "output_type": "stream",
     "text": [
      "[0. 0. 0.]\n",
      "[[0. 0. 0.]\n",
      " [0. 0. 0.]]\n"
     ]
    }
   ],
   "source": [
    "array1 = np.zeros(3, dtype=np.float)\n",
    "array2 = np.zeros((2, 3), dtype=np.float)\n",
    "print(array1)\n",
    "print(array2)"
   ]
  },
  {
   "cell_type": "code",
   "execution_count": 24,
   "metadata": {},
   "outputs": [
    {
     "name": "stdout",
     "output_type": "stream",
     "text": [
      "[1. 1. 1.]\n",
      "[[1. 1. 1.]\n",
      " [1. 1. 1.]]\n"
     ]
    }
   ],
   "source": [
    "array1 = np.ones(3, dtype=np.float)\n",
    "array2 = np.ones((2, 3), dtype=np.float)\n",
    "print(array1)\n",
    "print(array2)"
   ]
  },
  {
   "cell_type": "code",
   "execution_count": 25,
   "metadata": {},
   "outputs": [
    {
     "name": "stdout",
     "output_type": "stream",
     "text": [
      "[ 2.   3.6  5.2  6.8  8.4 10. ]\n",
      "[[ 2.   3.6  5.2]\n",
      " [ 6.8  8.4 10. ]]\n"
     ]
    }
   ],
   "source": [
    "array = np.linspace(2, 10, 6)\n",
    "print(array)\n",
    "array = array.reshape(2, -1)  # -1为占位，numpy可以推测后面的值\n",
    "print(array)"
   ]
  },
  {
   "cell_type": "code",
   "execution_count": 26,
   "metadata": {},
   "outputs": [
    {
     "name": "stdout",
     "output_type": "stream",
     "text": [
      "[[1. 0. 0. 0. 0.]\n",
      " [0. 1. 0. 0. 0.]\n",
      " [0. 0. 1. 0. 0.]\n",
      " [0. 0. 0. 1. 0.]\n",
      " [0. 0. 0. 0. 1.]]\n"
     ]
    }
   ],
   "source": [
    "array = np.eye(5) # 单位矩阵 # 等同于np.identity(5)\n",
    "print(array)"
   ]
  },
  {
   "cell_type": "markdown",
   "metadata": {},
   "source": [
    "# 3矩阵计算"
   ]
  },
  {
   "cell_type": "code",
   "execution_count": 27,
   "metadata": {},
   "outputs": [
    {
     "name": "stdout",
     "output_type": "stream",
     "text": [
      "[[2.  2.5]\n",
      " [3.  3.5]\n",
      " [4.  4.5]]\n",
      "[[4.  4.5]\n",
      " [5.  5.5]\n",
      " [6.  6.5]]\n",
      "[[0.  0.5]\n",
      " [1.  1.5]\n",
      " [2.  2.5]]\n",
      "[[1.   1.25]\n",
      " [1.5  1.75]\n",
      " [2.   2.25]]\n",
      "[[4. 5.]\n",
      " [6. 7.]\n",
      " [8. 9.]]\n",
      "[[0.69314718 0.91629073]\n",
      " [1.09861229 1.25276297]\n",
      " [1.38629436 1.5040774 ]]\n",
      "[[ 4.    6.25]\n",
      " [ 9.   12.25]\n",
      " [16.   20.25]]\n",
      "[[1.41421356 1.58113883]\n",
      " [1.73205081 1.87082869]\n",
      " [2.         2.12132034]]\n"
     ]
    }
   ],
   "source": [
    "array = np.arange(2, 5, 0.5, dtype=np.float).reshape(3, -1)\n",
    "print(array)\n",
    "print(2 + array)\n",
    "print(array - 2)\n",
    "print(array/2)\n",
    "print(2*array)\n",
    "print(np.log(array))\n",
    "print(np.power(array, 2))\n",
    "print(np.sqrt(array))"
   ]
  },
  {
   "cell_type": "code",
   "execution_count": 28,
   "metadata": {},
   "outputs": [
    {
     "name": "stdout",
     "output_type": "stream",
     "text": [
      "[[2.  3.  4. ]\n",
      " [2.5 3.5 4.5]]\n",
      "[[2.  3.  4. ]\n",
      " [2.5 3.5 4.5]]\n"
     ]
    }
   ],
   "source": [
    "# 转置\n",
    "array = np.arange(2, 5, 0.5, dtype=np.float).reshape(3, -1)\n",
    "print(array.T)\n",
    "print(np.transpose(array))"
   ]
  },
  {
   "cell_type": "code",
   "execution_count": 30,
   "metadata": {},
   "outputs": [
    {
     "name": "stdout",
     "output_type": "stream",
     "text": [
      "[[4.17022005e+00 7.20324493e+00]\n",
      " [1.14374817e-03 3.02332573e+00]\n",
      " [1.46755891e+00 9.23385948e-01]]\n",
      "16.788879311798276\n",
      "[11.37346498  3.02446947  2.39094486]\n",
      "[ 5.6389227  11.14995661]\n",
      "7.203244934421581\n",
      "[7.20324493 3.02332573 1.46755891]\n",
      "[4.17022005 7.20324493]\n"
     ]
    }
   ],
   "source": [
    "#矩阵的数值运算\n",
    "np.random.seed(1)   # 设置随机数种子，保证每次生成的随机数相同\n",
    "array = 10*np.random.random((3, 2))\n",
    "print(array)\n",
    "print(array.sum())  # 整个矩阵各个元素的和\n",
    "print(array.sum(axis=1))  # 各行的和\n",
    "print(array.sum(axis=0))  # 各列的和\n",
    "print(array.max()) # 整个矩阵中的最大值\n",
    "print(array.max(axis=1))  # 各行的最大值\n",
    "print(array.max(axis=0))  # 各列的最大值"
   ]
  },
  {
   "cell_type": "code",
   "execution_count": 31,
   "metadata": {},
   "outputs": [
    {
     "name": "stdout",
     "output_type": "stream",
     "text": [
      "[[ 1  2  3  4]\n",
      " [ 5  6  7  8]\n",
      " [ 9 10 11 12]]\n",
      "479001600\n",
      "6.5\n",
      "6.5\n",
      "3.452052529534663\n",
      "11.916666666666666\n",
      "[[1 1 1]\n",
      " [1 1 1]\n",
      " [1 1 1]]\n",
      "[ 1  3  6 10 15 21 28 36 45 55 66 78]\n"
     ]
    }
   ],
   "source": [
    "array = np.arange(1, 13).reshape(3, -1)\n",
    "print(array)\n",
    "print(array.prod())      # 元素累乘\n",
    "print(array.mean())      # 矩阵各元素平均值\n",
    "print(np.median(array))  #  矩阵中值\n",
    "print(array.std())       #  各元素标准差\n",
    "print(array.var())       #  各元素方差\n",
    "print(np.diff(array))    #  当前元素减去前面元素的差\n",
    "print(np.cumsum(array))  #  每个元素变成当前元素＋前面所有元素的和"
   ]
  },
  {
   "cell_type": "code",
   "execution_count": 32,
   "metadata": {},
   "outputs": [
    {
     "name": "stdout",
     "output_type": "stream",
     "text": [
      "[[ 1.     2.125  3.25 ]\n",
      " [ 4.375  5.5    6.625]\n",
      " [ 7.75   8.875 10.   ]]\n",
      "[[4.    4.    4.   ]\n",
      " [4.375 5.5   6.625]\n",
      " [7.75  8.    8.   ]]\n",
      "[[ 1.   2.1  3.2]\n",
      " [ 4.4  5.5  6.6]\n",
      " [ 7.8  8.9 10. ]]\n"
     ]
    }
   ],
   "source": [
    "\n",
    "array = np.linspace(1, 10, 9, dtype=np.float).reshape(3, -1)\n",
    "print(array)\n",
    "#根据条件修改矩阵数值。 如比 4 小的全部为 4，比 8 大的全部为 8，四舍五入(可指定精度)：\n",
    "print(np.clip(array, 4, 8))\n",
    " # 对第一位小数点进行四舍五入，默认四舍五入到整数\n",
    "print(array.round(decimals=1))"
   ]
  },
  {
   "cell_type": "code",
   "execution_count": 34,
   "metadata": {},
   "outputs": [
    {
     "name": "stdout",
     "output_type": "stream",
     "text": [
      "[[1 2 3]\n",
      " [4 5 6]\n",
      " [7 8 9]]\n",
      "[[ 3.15251974e+15 -6.30503948e+15  3.15251974e+15]\n",
      " [-6.30503948e+15  1.26100790e+16 -6.30503948e+15]\n",
      " [ 3.15251974e+15 -6.30503948e+15  3.15251974e+15]]\n"
     ]
    }
   ],
   "source": [
    "#矩阵求逆\n",
    "\n",
    "a = np.arange(1, 10).reshape(3, 3)\n",
    "print(a)\n",
    "print(np.linalg.inv(a))  #linalg线性代数库"
   ]
  },
  {
   "cell_type": "markdown",
   "metadata": {},
   "source": [
    "## 3.2 两个矩阵操作"
   ]
  },
  {
   "cell_type": "code",
   "execution_count": 36,
   "metadata": {},
   "outputs": [
    {
     "name": "stdout",
     "output_type": "stream",
     "text": [
      "[[2.  2.5]\n",
      " [3.  3.5]\n",
      " [4.  4.5]]\n",
      "[[3.  3.5]\n",
      " [4.  4.5]\n",
      " [5.  5.5]]\n",
      "[[ 5.  6.]\n",
      " [ 7.  8.]\n",
      " [ 9. 10.]]\n",
      "[[-1. -1.]\n",
      " [-1. -1.]\n",
      " [-1. -1.]]\n",
      "[[0.66666667 0.71428571]\n",
      " [0.75       0.77777778]\n",
      " [0.8        0.81818182]]\n",
      "[[ 6.    8.75]\n",
      " [12.   15.75]\n",
      " [20.   24.75]]\n",
      "[[0.69314718 0.91629073]\n",
      " [1.09861229 1.25276297]\n",
      " [1.38629436 1.5040774 ]]\n",
      "[[   8.           24.70529422]\n",
      " [  81.          280.7412308 ]\n",
      " [1024.         3914.43265521]]\n",
      "[[False False]\n",
      " [ True  True]\n",
      " [ True  True]]\n",
      "[[False False]\n",
      " [False False]\n",
      " [False False]]\n"
     ]
    }
   ],
   "source": [
    "#两个形状相同的矩阵对应元素操作，比较元素大小\n",
    "\n",
    "array = np.arange(2, 5, 0.5, dtype=np.float).reshape(3, -1)\n",
    "array1 = np.arange(3, 6, 0.5, dtype=np.float).reshape(3, -1)\n",
    "print(array)\n",
    "print(array1)\n",
    "print(array1 + array)\n",
    "print(array - array1)\n",
    "print(array/array1)\n",
    "print(array1*array)  # 等同于 np.multiply(array1, array)\n",
    "print(np.log(array))\n",
    "print(np.power(array, array1))\n",
    "print(array > 2.5)\n",
    "print(array > array1)"
   ]
  },
  {
   "cell_type": "code",
   "execution_count": 39,
   "metadata": {},
   "outputs": [
    {
     "name": "stdout",
     "output_type": "stream",
     "text": [
      "[[108 122]\n",
      " [220 250]]\n",
      "[[108 122]\n",
      " [220 250]]\n",
      "[[108 122]\n",
      " [220 250]]\n"
     ]
    }
   ],
   "source": [
    "#矩阵相乘 # 点乘\n",
    "\n",
    "array1 = np.arange(2, 10).reshape(2, -1)\n",
    "array2 = np.arange(4, 12).reshape(-1, 2)\n",
    "# 方式1\n",
    "print(array1.dot(array2))\n",
    "# 方式2\n",
    "print(np.dot(array1, array2))\n",
    "# 方式3\n",
    "print(array1 @ array2)"
   ]
  },
  {
   "cell_type": "markdown",
   "metadata": {},
   "source": [
    "# 4 切片和索引"
   ]
  },
  {
   "cell_type": "markdown",
   "metadata": {},
   "source": [
    "##    4.1 获取指定值的索引"
   ]
  },
  {
   "cell_type": "code",
   "execution_count": 41,
   "metadata": {},
   "outputs": [
    {
     "name": "stdout",
     "output_type": "stream",
     "text": [
      "0\n",
      "5\n",
      "[0 1 2]\n",
      "(array([0, 0, 0, 1, 1, 1, 2], dtype=int64), array([0, 1, 2, 0, 1, 2, 1], dtype=int64))\n"
     ]
    }
   ],
   "source": [
    "# 获取一个矩阵最大值、最小值以及非零索引\n",
    "array = np.array([[-6, 6, 1],\n",
    "                 [-2, 1, 7],\n",
    "                 [0, 2, 0]])\n",
    "print(np.argmin(array))   # 获取矩阵最小值索引\n",
    "print(np.argmax(array))   # 获取矩阵最大值索引\n",
    "print(np.argmin(array, axis=0)) # 获取矩阵每列的最小值索引\n",
    "print(np.nonzero(array))  # 可以理解第1个array代表行，第2个代表列"
   ]
  },
  {
   "cell_type": "markdown",
   "metadata": {},
   "source": [
    "## 4.2 获取矩阵块数据"
   ]
  },
  {
   "cell_type": "code",
   "execution_count": 42,
   "metadata": {},
   "outputs": [
    {
     "name": "stdout",
     "output_type": "stream",
     "text": [
      "7 7\n",
      "[-2  1  7] [-2  1  7]\n",
      "[6 1 2]\n",
      "[[6]\n",
      " [1]\n",
      " [2]]\n"
     ]
    }
   ],
   "source": [
    "#获取矩阵中具体的某个值，获取矩阵指定行，获取矩阵指定列，获取指定的行和列。\n",
    "\n",
    "array = np.array([[-6, 6, 1],\n",
    "                 [-2, 1, 7],\n",
    "                 [0, 2, 0]])\n",
    "print(array[1,2], array[1][2])  # 获取索引为1行2列的值\n",
    "print(array[1], array[:][1])    # 获取索引为1的行,array[:][1]:所有行中的第1行\n",
    "print(array[:, 1])              # 索引为1的列，返回为一个行向量（确定只有1列返回行）\n",
    "print(array[:, 1:2])            # 索引为1的列，返回为一个列向量（:则是切片，保持原来的维度）"
   ]
  },
  {
   "cell_type": "code",
   "execution_count": 43,
   "metadata": {},
   "outputs": [
    {
     "name": "stdout",
     "output_type": "stream",
     "text": [
      "[-6  6  1]\n",
      "[-2  1  7]\n",
      "[0 2 0]\n",
      "[-6 -2  0]\n",
      "[6 1 2]\n",
      "[1 7 0]\n"
     ]
    }
   ],
   "source": [
    "# 数据迭代，迭代矩阵的行或列。\n",
    "\n",
    "array = np.array([[-6, 6, 1],\n",
    "                 [-2, 1, 7],\n",
    "                 [0, 2, 0]])\n",
    "# 行迭代\n",
    "for row in array:\n",
    "    print(row)\n",
    "# 列迭代\n",
    "for col in array.T:\n",
    "    print(col)"
   ]
  },
  {
   "cell_type": "code",
   "execution_count": 44,
   "metadata": {},
   "outputs": [
    {
     "name": "stdout",
     "output_type": "stream",
     "text": [
      "[-6  6  1 -2  1  7  0  2  0]\n"
     ]
    }
   ],
   "source": [
    "# 将矩阵降低一维(内存降低一维)，对于二维矩阵来说，最后变成一个行向量\n",
    "\n",
    "array = np.array([[-6, 6, 1],\n",
    "                 [-2, 1, 7],\n",
    "                 [0, 2, 0]])\n",
    "print(array.flatten())\n",
    "# [-6  6  1 -2  1  7  0  2  0]"
   ]
  },
  {
   "cell_type": "markdown",
   "metadata": {},
   "source": [
    "## 4.3 使用 bool 索引进行切片"
   ]
  },
  {
   "cell_type": "code",
   "execution_count": 45,
   "metadata": {},
   "outputs": [
    {
     "name": "stdout",
     "output_type": "stream",
     "text": [
      "[ 0 20 40 60 80]\n",
      "[False False  True False  True]\n",
      "[40 80]\n"
     ]
    }
   ],
   "source": [
    "# 通过布尔类型选择数据， 布尔类型的矩阵也可以通过是矩阵的比较得到(ndarray > a， ndarray == ndarray 等)\n",
    "\n",
    "a = np.arange(0, 100, 20)\n",
    "mask = np.array([0, 0, 1, 0, -1], dtype=bool) # 0表示False，0之外的表示True\n",
    "print(a)\n",
    "print(mask)\n",
    "print(a[mask])  # 通过布尔类型来选择数据"
   ]
  },
  {
   "cell_type": "markdown",
   "metadata": {},
   "source": [
    "#  5 扩展与分解"
   ]
  },
  {
   "cell_type": "markdown",
   "metadata": {},
   "source": [
    "## 5.1 矩阵合并"
   ]
  },
  {
   "cell_type": "code",
   "execution_count": 47,
   "metadata": {},
   "outputs": [
    {
     "name": "stdout",
     "output_type": "stream",
     "text": [
      "[[1 2 3]\n",
      " [4 5 6]\n",
      " [1 2 3]\n",
      " [4 5 6]]\n",
      "[1 2 3 4 5 6 1 2 3 4 5 6]\n"
     ]
    }
   ],
   "source": [
    "# 多个行向量合并，矩阵合并，\n",
    "\n",
    "a = np.arange(1, 4)\n",
    "b = np.arange(4, 7)\n",
    "c = np.vstack((a, b, a, b))  # 垂直合并\n",
    "print(c)\n",
    "d = np.hstack((a, b, a, b))  # 水平合并，就是拼接\n",
    "print(d)\n",
    "c1 = np.vstack((a.T, b.T, a.T, b.T))"
   ]
  },
  {
   "cell_type": "code",
   "execution_count": 49,
   "metadata": {},
   "outputs": [
    {
     "name": "stdout",
     "output_type": "stream",
     "text": [
      "[[1 2]\n",
      " [3 4]]\n",
      "[[5 6]\n",
      " [7 8]]\n",
      "[[1 2]\n",
      " [3 4]\n",
      " [5 6]\n",
      " [7 8]]\n",
      "[[1 2 5 6]\n",
      " [3 4 7 8]]\n"
     ]
    }
   ],
   "source": [
    "a = np.arange(1, 5).reshape(2, -1)\n",
    "b = np.arange(5, 9).reshape(2, -1)\n",
    "print(a)\n",
    "print(b)\n",
    "print(np.vstack((a,b)))  # 垂直合并\n",
    "print(np.hstack((a,b)))  # 水平合并，就是拼接"
   ]
  },
  {
   "cell_type": "code",
   "execution_count": 56,
   "metadata": {},
   "outputs": [
    {
     "name": "stdout",
     "output_type": "stream",
     "text": [
      "[[1 2 3 4]]\n",
      "[[1]\n",
      " [2]\n",
      " [3]\n",
      " [4]]\n",
      "[1 2 3 4]\n"
     ]
    }
   ],
   "source": [
    "# 行向量转为列向量(矩阵)\n",
    "a = np.arange(1, 5)\n",
    "print(a.reshape(1, -1))   # 错误方法\n",
    "print(a[:, np.newaxis])   # 转换成列向量  \n",
    "    # newaxis 插入新维度\n",
    "print(a.T)\n",
    "    # 补充： 对于行向量，使用转置方法返回还是行向量。"
   ]
  },
  {
   "cell_type": "code",
   "execution_count": 55,
   "metadata": {},
   "outputs": [
    {
     "name": "stdout",
     "output_type": "stream",
     "text": [
      "[[1]\n",
      " [2]\n",
      " [3]\n",
      " [4]\n",
      " [5]\n",
      " [6]\n",
      " [7]\n",
      " [8]\n",
      " [1]\n",
      " [2]\n",
      " [3]\n",
      " [4]]\n",
      "[[1 5 1]\n",
      " [2 6 2]\n",
      " [3 7 3]\n",
      " [4 8 4]]\n"
     ]
    }
   ],
   "source": [
    "# 列向量的合并\n",
    "\n",
    "a = np.arange(1, 5)[:, np.newaxis]\n",
    "b = np.arange(5, 9)[:, np.newaxis]\n",
    "c = np.concatenate((a, b, a))  # 列向量的拼接，矩阵的拼接, axis参数默认为0，在垂直方向拼接（行的拼接）\n",
    "print(c)\n",
    "d = np.concatenate((a, b, a), axis=1) # 在水平方向拼接（列的拼接）\n",
    "print(d)"
   ]
  },
  {
   "cell_type": "markdown",
   "metadata": {},
   "source": [
    "## 5.2 矩阵分解"
   ]
  },
  {
   "cell_type": "code",
   "execution_count": 58,
   "metadata": {},
   "outputs": [
    {
     "name": "stdout",
     "output_type": "stream",
     "text": [
      "[[ 0  1  2  3]\n",
      " [ 4  5  6  7]\n",
      " [ 8  9 10 11]]\n",
      "[array([[0, 1],\n",
      "       [4, 5],\n",
      "       [8, 9]]), array([[ 2,  3],\n",
      "       [ 6,  7],\n",
      "       [10, 11]])]\n",
      "[array([[0, 1, 2, 3]]), array([[4, 5, 6, 7]]), array([[ 8,  9, 10, 11]])]\n"
     ]
    }
   ],
   "source": [
    "# 将矩阵沿水平、垂直方向分解\n",
    "\n",
    "a = np.arange(12).reshape(3, 4)\n",
    "print(a)\n",
    "# 均匀分开\n",
    "print(np.split(a, 2, axis=1))  # 垂直方向（从上到下劈一刀）均匀（4/2=2）分成2份\n",
    "print(np.split(a, 3, axis=0))  # 水平方向（从左到右劈三刀）均匀（3/1=3）分成3份"
   ]
  },
  {
   "cell_type": "code",
   "execution_count": 60,
   "metadata": {},
   "outputs": [
    {
     "name": "stdout",
     "output_type": "stream",
     "text": [
      "[ 0  1  2  3  4  5  6  7  8  9 10 11]\n"
     ]
    }
   ],
   "source": [
    "# 将列向量转换为行向量\n",
    "\n",
    "array = np.arange(12)[:, np.newaxis]\n",
    "print(array.squeeze()) # 降维度"
   ]
  },
  {
   "cell_type": "markdown",
   "metadata": {},
   "source": [
    "# 6 随机模块"
   ]
  },
  {
   "cell_type": "code",
   "execution_count": 61,
   "metadata": {},
   "outputs": [],
   "source": [
    "#设置随机数种子，保持每次得到的数据一致\n",
    "\n",
    "np.random.seed(10)"
   ]
  },
  {
   "cell_type": "code",
   "execution_count": 62,
   "metadata": {},
   "outputs": [
    {
     "name": "stdout",
     "output_type": "stream",
     "text": [
      "[9 4 0 1 9]\n"
     ]
    }
   ],
   "source": [
    "#从 0-10 中随机选出 5 个随机数行向量\n",
    "\n",
    "print(np.random.choice(11, size=5))  # 选出的元素可重复，但不可是"
   ]
  },
  {
   "cell_type": "code",
   "execution_count": 63,
   "metadata": {},
   "outputs": [
    {
     "name": "stdout",
     "output_type": "stream",
     "text": [
      "[[0.58332174 0.02517173]\n",
      " [0.70920801 0.26556613]\n",
      " [0.26360285 0.15037787]]\n"
     ]
    }
   ],
   "source": [
    "# 随机生成指定维度，满足 0-1 均匀分布的矩阵(当 rand()中无参数，则返回一个标量的随机数值)\n",
    "\n",
    "print(np.random.rand(3, 2)) # 返回服从[0, 1)均匀分布的随机样本值"
   ]
  },
  {
   "cell_type": "code",
   "execution_count": 64,
   "metadata": {},
   "outputs": [
    {
     "name": "stdout",
     "output_type": "stream",
     "text": [
      "[[ 3  0  4]\n",
      " [11  6  8]]\n"
     ]
    }
   ],
   "source": [
    "#返回区间在[0, a)上指定维度的整数矩阵\n",
    "\n",
    "print(np.random.randint(15, size=(2,3)))"
   ]
  },
  {
   "cell_type": "code",
   "execution_count": 65,
   "metadata": {},
   "outputs": [
    {
     "name": "stdout",
     "output_type": "stream",
     "text": [
      "[[13 12 11]\n",
      " [10 14 11]]\n"
     ]
    }
   ],
   "source": [
    "#返回区间在自定义区间上指定维度的整数矩阵\n",
    "\n",
    "print(np.random.randint(10, 15, size=(2,3)))"
   ]
  },
  {
   "cell_type": "code",
   "execution_count": 66,
   "metadata": {},
   "outputs": [
    {
     "name": "stdout",
     "output_type": "stream",
     "text": [
      "[[ 0.22863013  0.44513761 -1.13660221  0.13513688  1.484537  ]\n",
      " [-1.07980489 -1.97772828 -1.7433723   0.26607016  2.38496733]]\n"
     ]
    }
   ],
   "source": [
    "#返回服从高斯分布中均值为 [公式]，方差 [公式] 的指定维数矩阵\n",
    "\n",
    "mu = 0  #  均值\n",
    "sigma = 1  # 方差\n",
    "print(np.random.normal(mu, sigma, (2, 5)))"
   ]
  },
  {
   "cell_type": "code",
   "execution_count": 68,
   "metadata": {},
   "outputs": [
    {
     "name": "stdout",
     "output_type": "stream",
     "text": [
      "[[0 1 2 3 4]\n",
      " [5 6 7 8 9]]\n",
      "[[0 1 2 3 4]\n",
      " [5 6 7 8 9]]\n"
     ]
    }
   ],
   "source": [
    "#对一数据，随机打散 ()\n",
    "\n",
    "array = np.arange(10).reshape(2,5)\n",
    "print(array)\n",
    "np.random.shuffle(array) # 随机洗牌\n",
    "print(array)"
   ]
  },
  {
   "cell_type": "markdown",
   "metadata": {},
   "source": [
    "# 7 其它操作"
   ]
  },
  {
   "cell_type": "code",
   "execution_count": 69,
   "metadata": {},
   "outputs": [
    {
     "name": "stdout",
     "output_type": "stream",
     "text": [
      "True True True\n",
      "[100   1   2   3   4]\n",
      "False\n",
      "[20  1  2  3  4] [100   1   2   3   4]\n"
     ]
    }
   ],
   "source": [
    "#在使用时需要注意，数据是否共有内存，避免修改一地方的值，另外一个地方的值也随之变化。\n",
    "\n",
    "a = np.arange(5)\n",
    "b = a\n",
    "c = b\n",
    "d = c # a,b,c,d指向同一数据地址\n",
    "print(d is a, c is a, b is a) # True True True\n",
    "d[0] = 100\n",
    "print(a)        # d改动，a随着变化\n",
    "e = a.copy()    # 拷贝一份a给e，a,e不共享内存\n",
    "print(e is a)\n",
    "e[0] = 20\n",
    "print(e, a)"
   ]
  },
  {
   "cell_type": "code",
   "execution_count": 70,
   "metadata": {},
   "outputs": [
    {
     "name": "stdout",
     "output_type": "stream",
     "text": [
      "[[-6  1  6]\n",
      " [-2  1  7]\n",
      " [ 0  0  2]]\n",
      "[[-6  1  6]\n",
      " [-2  1  7]\n",
      " [ 0  0  2]]\n"
     ]
    }
   ],
   "source": [
    "# 矩阵元素排序\n",
    "\n",
    "array = np.array([[-6, 6, 1],\n",
    "                 [-2, 1, 7],\n",
    "                 [0, 2, 0]])\n",
    " # 默认对每行的数据从左至右，从小到大排序, 参数axis默认为0\n",
    "print(np.sort(array))\n",
    "print(np.sort(array, axis=1)) # 对列进行排序，从上到下，从小到大排序"
   ]
  },
  {
   "cell_type": "code",
   "execution_count": null,
   "metadata": {},
   "outputs": [],
   "source": []
  }
 ],
 "metadata": {
  "kernelspec": {
   "display_name": "Python 3",
   "language": "python",
   "name": "python3"
  },
  "language_info": {
   "codemirror_mode": {
    "name": "ipython",
    "version": 3
   },
   "file_extension": ".py",
   "mimetype": "text/x-python",
   "name": "python",
   "nbconvert_exporter": "python",
   "pygments_lexer": "ipython3",
   "version": "3.7.1"
  }
 },
 "nbformat": 4,
 "nbformat_minor": 4
}
