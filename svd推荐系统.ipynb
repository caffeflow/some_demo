{
 "cells": [
  {
   "cell_type": "code",
   "execution_count": 69,
   "metadata": {},
   "outputs": [
    {
     "name": "stdout",
     "output_type": "stream",
     "text": [
      "scoreData: (18, 11)\n"
     ]
    }
   ],
   "source": [
    "import numpy as np\n",
    "# 历史打分表 (18,11) - 11个样本（11道菜品的历史打分），每个样本有18个特征维度（18个用户）。菜品打分区间为0~5，0代表未消费过\n",
    "scoreData = np.mat([\n",
    "    [5,2,1,4,0,0,2,4,0,0,0],\n",
    "    [0,0,0,0,0,0,0,0,0,3,0],\n",
    "    [1,0,5,2,0,0,3,0,3,0,1],\n",
    "    [0,5,0,0,4,0,1,0,0,0,0],\n",
    "    [0,0,0,0,0,4,0,0,0,4,0],\n",
    "    [0,0,1,0,0,0,1,0,0,5,0],\n",
    "    [5,0,2,4,2,1,0,3,0,1,0],\n",
    "    [0,4,0,0,5,4,0,0,0,0,5],\n",
    "    [0,0,0,0,0,0,4,0,4,5,0],\n",
    "    [0,0,0,4,0,0,1,5,0,0,0],\n",
    "    [0,0,0,0,4,5,0,0,0,0,3],\n",
    "    [4,3,1,4,0,0,2,4,0,0,0],\n",
    "    [0,1,4,2,2,1,5,0,5,0,0],\n",
    "    [0,0,0,0,0,4,0,0,0,4,0],\n",
    "    [2,5,0,0,4,0,0,0,0,0,0],\n",
    "    [5,0,0,0,0,0,0,4,2,0,0],\n",
    "    [0,2,4,0,4,3,4,0,0,0,0],\n",
    "    [0,3,5,1,0,0,4,1,0,0,0],\n",
    "])\n",
    "print(\"scoreData:\",scoreData.shape)"
   ]
  },
  {
   "cell_type": "code",
   "execution_count": 70,
   "metadata": {},
   "outputs": [],
   "source": [
    "# 关键1: 如何衡量菜品之间的相似性。 \n",
    "# 相似度的方法有很多，如欧式距离、皮尔逊相关系数、余弦相似度等。\n",
    "def cosSim(v1,v2):\n",
    "    \"\"\"\n",
    "    基于余弦相似度,即两个向量之间的夹角的余弦：cos𝜃，另外进行归一化处理后为：0.5+0.5cos𝜃，相似度取值范围是0~1。\n",
    "    v1,v2 是两种菜品的不同用户的打分矩阵，均为（-1，1）的尺寸。\n",
    "    \"\"\"\n",
    "    cos_theta = float(v1.T@v2)/(np.linalg.norm(v1)* np.linalg.norm(v2))\n",
    "    return 0.5 + 0.5*cos_theta"
   ]
  },
  {
   "cell_type": "code",
   "execution_count": 71,
   "metadata": {},
   "outputs": [
    {
     "name": "stdout",
     "output_type": "stream",
     "text": [
      "U: (18, 18)\n",
      "Sigma: (11,)\n",
      "VT: (11, 11)\n",
      "k: 6\n",
      "U_k: (18, 6)\n",
      "Sigma_k (6, 6)\n",
      "socoreData -> scoreDataRC: (18, 11) -> (6, 11)\n"
     ]
    }
   ],
   "source": [
    "# 关键2：稀疏数据矩阵的降维处理，以有助于衡量菜品之间的相似度\n",
    "\n",
    "# 原始数据有很多零，原因是很多人没吃过那么多菜，这里可以用svd对行降维，类似于“去掉一些信息量比较小的人，\n",
    "# 使得剩下的人都是吃过比较多的菜的人”，如此便有助于衡量菜品之间的相似度。\n",
    "U,Sigma,VT = np.linalg.svd(scoreData)\n",
    "print(\"U:\",U.shape)\n",
    "print(\"Sigma:\",Sigma.shape)\n",
    "print(\"VT:\",VT.shape)\n",
    "\n",
    "# 为了确定选择多少个最大的奇异值进行空间压缩，提出了主成分贡献率的概念：人为选择的奇异值的平方和能达到所有奇异值的平方和的90%\n",
    "def find_k_for_PC_contribution_rate(Sigma,rate):\n",
    "    \"\"\"\n",
    "    Sigma: 从大到小排列的所有奇异值的列表\n",
    "    rate: 需要达到的主成分贡献率\n",
    "    \n",
    "    返回：k,表示选择最大的k个奇异值。\n",
    "    \"\"\"\n",
    "    pc_contri = 0.\n",
    "    all_contri = np.sum(np.array(Sigma)**2)\n",
    "    for k in range(0,len(Sigma)):\n",
    "        pc_contri += Sigma[k]**2\n",
    "        if pc_contri / all_contri > rate:\n",
    "            k = k+1\n",
    "            return k\n",
    "\n",
    "k = find_k_for_PC_contribution_rate(Sigma,0.9)\n",
    "print(\"k:\",k)    \n",
    "# 拿到目标奇异值矩阵,并进行行压缩。注意：推荐算法中，通常还需要对行乘以对应的奇异值，给予权重，即乘以奇异值方阵。\n",
    "U_k = U[:,:k] # 选择最大k个奇异值对应的特征向量(列向量)\n",
    "scoreDataRC = U_k.T@scoreData\n",
    "Sigma_k = np.diag(Sigma[:6])\n",
    "scoreDataRC = Sigma_k@scoreDataRC\n",
    "print(\"U_k:\",U_k.shape)\n",
    "print(\"Sigma_k\",Sigma_k.shape)\n",
    "print(\"socoreData -> scoreDataRC:\",scoreData.shape,\"->\",scoreDataRC.shape) # 行降维  "
   ]
  },
  {
   "cell_type": "code",
   "execution_count": 73,
   "metadata": {},
   "outputs": [],
   "source": [
    "# 关键3:评分估计。 \n",
    "\n",
    "# 基本思想：利用该顾客已评分的菜品分值，来估计某个未评分的菜品的分值。\n",
    "# score = np.sum([userScore_list[i]*sim_list[i] for i in range(len(sim_list))]) / np.sum(sim_list)\n",
    "def estScore(scoreData,scoreDataRC,userIndex,itemIndex):\n",
    "    \"\"\"\n",
    "    函数作用：估计指定用户对未打分的指定菜品的打分\n",
    "    \n",
    "    scoreData: 原始的用户打分表\n",
    "    scoreDataRC: 对scoreData的行降维，类似于去掉一些信息量少的人。用于计算菜品相似度。\n",
    "    userIndex：指定某用户\n",
    "    itemIndex: 指定某菜品（该菜品未被指定用户打分）\n",
    "    \n",
    "    \"\"\"\n",
    "    n = np.shape(scoreData)[1] # 菜品数\n",
    "    sim_list = [] \n",
    "    userScore_list = []\n",
    "    simSumScore = 0.\n",
    "    for i in range(n):\n",
    "        # 遍历菜品，对”指定用户打过分的菜品“与“为指定用户估分的菜品”进行相似度计算\n",
    "        userScore = scoreData[userIndex,i]\n",
    "        if userScore == 0 or i == itemIndex :\n",
    "            continue\n",
    "        userScore_list.append(userScore)\n",
    "        # 计算：”不是为指定用户估分的菜品i“ 与 “为指定用户估分的菜品itemIndex” 之间的相似度\n",
    "        sim = cosSim(scoreDataRC[:,i],scoreDataRC[:,itemIndex])\n",
    "        sim_list.append(sim)\n",
    "        \n",
    "    if np.sum(sim_list) == 0:\n",
    "        return 0\n",
    "    \n",
    "    # 评分估计的公式\n",
    "    score = np.sum([userScore_list[i]*sim_list[i] for i in range(len(sim_list))]) / np.sum(sim_list)\n",
    "    return score     \n"
   ]
  },
  {
   "cell_type": "code",
   "execution_count": 74,
   "metadata": {},
   "outputs": [
    {
     "name": "stdout",
     "output_type": "stream",
     "text": [
      "\n",
      "该用户的以下菜品的估分如下：\n",
      "index 0 score: 2.643137134847587\n",
      "index 4 score: 2.9128723326309602\n",
      "index 5 score: 2.9242079074677068\n",
      "index 8 score: 2.9452577016141746\n",
      "index 9 score: 2.9006983394852037\n",
      "index 10 score: 2.9168368716465665\n",
      "最推荐该用户去尝试的菜品是： 8\n"
     ]
    }
   ],
   "source": [
    "# 应用环节：对17号用户进行推荐菜品\n",
    "userIndex = 17\n",
    "index_list = []\n",
    "score_list = []\n",
    "for itemIndex in range(np.shape(scoreData)[1]):\n",
    "    # 遍历所有菜品, 但忽略指定用户已打分的菜品\n",
    "    if scoreData[userIndex,itemIndex] != 0:\n",
    "        continue\n",
    "    index_list.append(itemIndex)\n",
    "    score_list.append(estScore(scoreData,scoreDataRC,userIndex,itemIndex))\n",
    "\n",
    "print(\"\\n该用户的以下菜品的估分如下：\")\n",
    "for index,score in zip(index_list,score_list):\n",
    "    print(\"index\",index,\"score:\",score)\n",
    "print(\"最推荐该用户去尝试的菜品是：\",index_list[np.argmax(score_list)])"
   ]
  },
  {
   "cell_type": "code",
   "execution_count": null,
   "metadata": {},
   "outputs": [],
   "source": []
  }
 ],
 "metadata": {
  "kernelspec": {
   "display_name": "Python 3.8.5 64-bit ('pt': conda)",
   "language": "python",
   "name": "python38564bitptconda4efcb77cf95b420288c15c3b3c6789ef"
  },
  "language_info": {
   "codemirror_mode": {
    "name": "ipython",
    "version": 3
   },
   "file_extension": ".py",
   "mimetype": "text/x-python",
   "name": "python",
   "nbconvert_exporter": "python",
   "pygments_lexer": "ipython3",
   "version": "3.7.0"
  },
  "toc": {
   "base_numbering": 1,
   "nav_menu": {},
   "number_sections": true,
   "sideBar": true,
   "skip_h1_title": false,
   "title_cell": "Table of Contents",
   "title_sidebar": "Contents",
   "toc_cell": false,
   "toc_position": {},
   "toc_section_display": true,
   "toc_window_display": false
  }
 },
 "nbformat": 4,
 "nbformat_minor": 4
}
